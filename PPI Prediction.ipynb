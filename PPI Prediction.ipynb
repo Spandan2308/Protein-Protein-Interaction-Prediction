{
 "cells": [
  {
   "cell_type": "code",
   "execution_count": 1,
   "id": "e643c104",
   "metadata": {},
   "outputs": [],
   "source": [
    "import pandas as pd\n",
    "import numpy as np\n",
    "from itertools import combinations\n",
    "\n",
    "from xgboost import XGBClassifier\n",
    "\n",
    "from sklearn.model_selection import train_test_split\n",
    "from sklearn.metrics import accuracy_score\n",
    "\n",
    "import matplotlib.pyplot as plt\n",
    "from sklearn.metrics import confusion_matrix\n",
    "import seaborn as sns"
   ]
  },
  {
   "cell_type": "code",
   "execution_count": 2,
   "id": "1c3c40da",
   "metadata": {},
   "outputs": [],
   "source": [
    "pos_df = pd.read_csv('positive_protein_sequences.csv')\n",
    "neg_df = pd.read_csv('negative_protein_sequences.csv')"
   ]
  },
  {
   "cell_type": "code",
   "execution_count": 3,
   "id": "50983606",
   "metadata": {},
   "outputs": [],
   "source": [
    "pos_df['class'] = 1\n",
    "neg_df['class'] = 0"
   ]
  },
  {
   "cell_type": "code",
   "execution_count": 4,
   "id": "0dbaa54a",
   "metadata": {},
   "outputs": [],
   "source": [
    "df = pd.concat([pos_df, neg_df], axis=0)"
   ]
  },
  {
   "cell_type": "code",
   "execution_count": 5,
   "id": "47ed966c",
   "metadata": {},
   "outputs": [],
   "source": [
    "df = df.reset_index(drop=True)"
   ]
  },
  {
   "cell_type": "code",
   "execution_count": 6,
   "id": "4614a0d2",
   "metadata": {},
   "outputs": [
    {
     "data": {
      "text/html": [
       "<div>\n",
       "<style scoped>\n",
       "    .dataframe tbody tr th:only-of-type {\n",
       "        vertical-align: middle;\n",
       "    }\n",
       "\n",
       "    .dataframe tbody tr th {\n",
       "        vertical-align: top;\n",
       "    }\n",
       "\n",
       "    .dataframe thead th {\n",
       "        text-align: right;\n",
       "    }\n",
       "</style>\n",
       "<table border=\"1\" class=\"dataframe\">\n",
       "  <thead>\n",
       "    <tr style=\"text-align: right;\">\n",
       "      <th></th>\n",
       "      <th>protein_sequences_1</th>\n",
       "      <th>protein_sequences_2</th>\n",
       "      <th>class</th>\n",
       "    </tr>\n",
       "  </thead>\n",
       "  <tbody>\n",
       "    <tr>\n",
       "      <th>0</th>\n",
       "      <td>MESSKKMDSPGALQTNPPLKLHTDRSAGTPVFVPEQGGYKEKFVKT...</td>\n",
       "      <td>MARPHPWWLCVLGTLVGLSATPAPKSCPERHYWAQGKLCCQMCEPG...</td>\n",
       "      <td>1</td>\n",
       "    </tr>\n",
       "    <tr>\n",
       "      <th>1</th>\n",
       "      <td>MVMSSYMVNSKYVDPKFPPCEEYLQGGYLGEQGADYYGGGAQGADF...</td>\n",
       "      <td>MAENVVEPGPPSAKRPKLSSPALSASASDGTDFGSLFDLEHDLPDE...</td>\n",
       "      <td>1</td>\n",
       "    </tr>\n",
       "    <tr>\n",
       "      <th>2</th>\n",
       "      <td>MNRHLWKSQLCEMVQPSGGPAADQDVLGEESPLGKPAMLHLPSEQG...</td>\n",
       "      <td>MEGGRRARVVIESKRNFFLGAFPTPFPAEHVELGRLGDSETAMVPG...</td>\n",
       "      <td>1</td>\n",
       "    </tr>\n",
       "    <tr>\n",
       "      <th>3</th>\n",
       "      <td>MAPPSTREPRVLSATSATKSDGEMVLPGFPDADSFVKFALGSVVAV...</td>\n",
       "      <td>MLFYSFFKSLVGKDVVVELKNDLSICGTLHSVDQYLNIKLTDISVT...</td>\n",
       "      <td>1</td>\n",
       "    </tr>\n",
       "    <tr>\n",
       "      <th>4</th>\n",
       "      <td>MQSGPRPPLPAPGLALALTLTMLARLASAASFFGENHLEVPVATAL...</td>\n",
       "      <td>MQTIKCVVVGDGAVGKTCLLISYTTNKFPSEYVPTVFDNYAVTVMI...</td>\n",
       "      <td>1</td>\n",
       "    </tr>\n",
       "    <tr>\n",
       "      <th>...</th>\n",
       "      <td>...</td>\n",
       "      <td>...</td>\n",
       "      <td>...</td>\n",
       "    </tr>\n",
       "    <tr>\n",
       "      <th>73105</th>\n",
       "      <td>MERFVVTAPPARNRSKTALYVTPLDRVTEFGGELHEDGGKLFCTSC...</td>\n",
       "      <td>MLGMIKNSLFGSVETWPWQVLSKGDKEEVAYEERACEGGKFATVEV...</td>\n",
       "      <td>0</td>\n",
       "    </tr>\n",
       "    <tr>\n",
       "      <th>73106</th>\n",
       "      <td>MAAGKSGGSAGEITFLEALARSESKRDGGFKNNWSFDHEEESEGDT...</td>\n",
       "      <td>MSSASGLRRGHPAGGEENMTETDAFYKREMFDPAEKYKMDHRRRGI...</td>\n",
       "      <td>0</td>\n",
       "    </tr>\n",
       "    <tr>\n",
       "      <th>73107</th>\n",
       "      <td>MQAQQYQQQRRKFAAAFLAFIFILAAVDTAEAGKKEKPEKKVKKSD...</td>\n",
       "      <td>MPRGRKSRRRRNARAAEENRNNRKIQASEASETPMAASVVASTPED...</td>\n",
       "      <td>0</td>\n",
       "    </tr>\n",
       "    <tr>\n",
       "      <th>73108</th>\n",
       "      <td>MNQPQRMAPVGTDKELSDLLDFSMMFPLPVTNGKGRPASLAGAQFG...</td>\n",
       "      <td>MVPALRYLVGACGRARGRFAGGSPGACGFASGRPRPLCGGSRSAST...</td>\n",
       "      <td>0</td>\n",
       "    </tr>\n",
       "    <tr>\n",
       "      <th>73109</th>\n",
       "      <td>MSATGPISNYYVDSLISHDNEDLLASRFPATGAHPAAARPSGLVPD...</td>\n",
       "      <td>MSDYENDDECWSVLEGFRVTLTSVIDPSRITPYLRQCKVLNPDDEE...</td>\n",
       "      <td>0</td>\n",
       "    </tr>\n",
       "  </tbody>\n",
       "</table>\n",
       "<p>73110 rows × 3 columns</p>\n",
       "</div>"
      ],
      "text/plain": [
       "                                     protein_sequences_1  \\\n",
       "0      MESSKKMDSPGALQTNPPLKLHTDRSAGTPVFVPEQGGYKEKFVKT...   \n",
       "1      MVMSSYMVNSKYVDPKFPPCEEYLQGGYLGEQGADYYGGGAQGADF...   \n",
       "2      MNRHLWKSQLCEMVQPSGGPAADQDVLGEESPLGKPAMLHLPSEQG...   \n",
       "3      MAPPSTREPRVLSATSATKSDGEMVLPGFPDADSFVKFALGSVVAV...   \n",
       "4      MQSGPRPPLPAPGLALALTLTMLARLASAASFFGENHLEVPVATAL...   \n",
       "...                                                  ...   \n",
       "73105  MERFVVTAPPARNRSKTALYVTPLDRVTEFGGELHEDGGKLFCTSC...   \n",
       "73106  MAAGKSGGSAGEITFLEALARSESKRDGGFKNNWSFDHEEESEGDT...   \n",
       "73107  MQAQQYQQQRRKFAAAFLAFIFILAAVDTAEAGKKEKPEKKVKKSD...   \n",
       "73108  MNQPQRMAPVGTDKELSDLLDFSMMFPLPVTNGKGRPASLAGAQFG...   \n",
       "73109  MSATGPISNYYVDSLISHDNEDLLASRFPATGAHPAAARPSGLVPD...   \n",
       "\n",
       "                                     protein_sequences_2  class  \n",
       "0      MARPHPWWLCVLGTLVGLSATPAPKSCPERHYWAQGKLCCQMCEPG...      1  \n",
       "1      MAENVVEPGPPSAKRPKLSSPALSASASDGTDFGSLFDLEHDLPDE...      1  \n",
       "2      MEGGRRARVVIESKRNFFLGAFPTPFPAEHVELGRLGDSETAMVPG...      1  \n",
       "3      MLFYSFFKSLVGKDVVVELKNDLSICGTLHSVDQYLNIKLTDISVT...      1  \n",
       "4      MQTIKCVVVGDGAVGKTCLLISYTTNKFPSEYVPTVFDNYAVTVMI...      1  \n",
       "...                                                  ...    ...  \n",
       "73105  MLGMIKNSLFGSVETWPWQVLSKGDKEEVAYEERACEGGKFATVEV...      0  \n",
       "73106  MSSASGLRRGHPAGGEENMTETDAFYKREMFDPAEKYKMDHRRRGI...      0  \n",
       "73107  MPRGRKSRRRRNARAAEENRNNRKIQASEASETPMAASVVASTPED...      0  \n",
       "73108  MVPALRYLVGACGRARGRFAGGSPGACGFASGRPRPLCGGSRSAST...      0  \n",
       "73109  MSDYENDDECWSVLEGFRVTLTSVIDPSRITPYLRQCKVLNPDDEE...      0  \n",
       "\n",
       "[73110 rows x 3 columns]"
      ]
     },
     "execution_count": 6,
     "metadata": {},
     "output_type": "execute_result"
    }
   ],
   "source": [
    "df"
   ]
  },
  {
   "cell_type": "code",
   "execution_count": 7,
   "id": "77563088",
   "metadata": {},
   "outputs": [],
   "source": [
    "np.random.seed(42)\n",
    "\n",
    "df = df.sample(frac=1).reset_index(drop=True)"
   ]
  },
  {
   "cell_type": "code",
   "execution_count": 8,
   "id": "46b81b33",
   "metadata": {},
   "outputs": [
    {
     "data": {
      "text/html": [
       "<div>\n",
       "<style scoped>\n",
       "    .dataframe tbody tr th:only-of-type {\n",
       "        vertical-align: middle;\n",
       "    }\n",
       "\n",
       "    .dataframe tbody tr th {\n",
       "        vertical-align: top;\n",
       "    }\n",
       "\n",
       "    .dataframe thead th {\n",
       "        text-align: right;\n",
       "    }\n",
       "</style>\n",
       "<table border=\"1\" class=\"dataframe\">\n",
       "  <thead>\n",
       "    <tr style=\"text-align: right;\">\n",
       "      <th></th>\n",
       "      <th>protein_sequences_1</th>\n",
       "      <th>protein_sequences_2</th>\n",
       "      <th>class</th>\n",
       "    </tr>\n",
       "  </thead>\n",
       "  <tbody>\n",
       "    <tr>\n",
       "      <th>0</th>\n",
       "      <td>MASPHQEPKPGDLIEIFRLGYEHWALYIGDGYVIHLAPPSEYPGAG...</td>\n",
       "      <td>MMDGPRSDVGRWGGNPLQPPTTPSPEPEPEPDGRSRRGGGRSFWAR...</td>\n",
       "      <td>1</td>\n",
       "    </tr>\n",
       "    <tr>\n",
       "      <th>1</th>\n",
       "      <td>MDPSGVKVLETAEDIQERRQQVLDRYHRFKELSTLRRQKLEDSYRF...</td>\n",
       "      <td>MESGQPARRIAMAPLLEYERQLVLELLDTDGLVVCARGLGADRLLY...</td>\n",
       "      <td>1</td>\n",
       "    </tr>\n",
       "    <tr>\n",
       "      <th>2</th>\n",
       "      <td>MAAVVAATRWWQLLLVLSAAGMGASGAPQPPNILLLLMDDMGWGDL...</td>\n",
       "      <td>MFWKFDLNTTSHVDKLLDKEHVTLQELMDEDDILQECKAQNQKLLD...</td>\n",
       "      <td>0</td>\n",
       "    </tr>\n",
       "    <tr>\n",
       "      <th>3</th>\n",
       "      <td>MFEARLVQGSILKKVLEALKDLINEACWDISSSGVNLQSMDSSHVS...</td>\n",
       "      <td>MALRVTRNSKINAENKAKINMAGAKRVPTAPAATSKPGLRPRTALG...</td>\n",
       "      <td>1</td>\n",
       "    </tr>\n",
       "    <tr>\n",
       "      <th>4</th>\n",
       "      <td>MLRGPGPGLLLLAVQCLGTAVPSTGASKSKRQAQQMVQPQSPVAVS...</td>\n",
       "      <td>MLSFVDTRTLLLLAVTLCLATCQSLQEETVRKGPAGDRGPRGERGP...</td>\n",
       "      <td>1</td>\n",
       "    </tr>\n",
       "    <tr>\n",
       "      <th>...</th>\n",
       "      <td>...</td>\n",
       "      <td>...</td>\n",
       "      <td>...</td>\n",
       "    </tr>\n",
       "    <tr>\n",
       "      <th>73105</th>\n",
       "      <td>MHLPGCAPAMADGSFSLAGHLLRSPGGSTSRLHSIEAILGFTKDDG...</td>\n",
       "      <td>MMEESGIETTPPGTPPPNPAGLAATAMSSTPVPLAATSSFSSPNVS...</td>\n",
       "      <td>0</td>\n",
       "    </tr>\n",
       "    <tr>\n",
       "      <th>73106</th>\n",
       "      <td>MAAETQTLNFGPEWLRALSSGGSITSPPLSPALPKYKLADYRYGRE...</td>\n",
       "      <td>MGRRSTSSTKSGKFMNPTDQARKEARKRELKKNKKQRMMVRAAVLK...</td>\n",
       "      <td>1</td>\n",
       "    </tr>\n",
       "    <tr>\n",
       "      <th>73107</th>\n",
       "      <td>MATGTGKHKLLSTGPTEPWSIREKLCLASSVMRSGDQNWVSVSRAI...</td>\n",
       "      <td>MFSLSSTVQPQVTVPLSHLINAFHTPKNTSVSLSGVSVSQNQHRDV...</td>\n",
       "      <td>0</td>\n",
       "    </tr>\n",
       "    <tr>\n",
       "      <th>73108</th>\n",
       "      <td>MAMTLLEDWCRGMDVNSQRALLVWGIPVNCDEAEIEETLQAAMPQV...</td>\n",
       "      <td>MNILPKKSWHVRNKDNVARVRRDEAQAREEEKERERRVLLAQQEAR...</td>\n",
       "      <td>1</td>\n",
       "    </tr>\n",
       "    <tr>\n",
       "      <th>73109</th>\n",
       "      <td>MKRRLDDQESPVYAAQQRRIPGSTEAFPHQHRVLAPAPPVYEAVSE...</td>\n",
       "      <td>MASSVGNVADSTEPTKRMLSFQGLAELAHREYQAGDFEAAERHCMQ...</td>\n",
       "      <td>1</td>\n",
       "    </tr>\n",
       "  </tbody>\n",
       "</table>\n",
       "<p>73110 rows × 3 columns</p>\n",
       "</div>"
      ],
      "text/plain": [
       "                                     protein_sequences_1  \\\n",
       "0      MASPHQEPKPGDLIEIFRLGYEHWALYIGDGYVIHLAPPSEYPGAG...   \n",
       "1      MDPSGVKVLETAEDIQERRQQVLDRYHRFKELSTLRRQKLEDSYRF...   \n",
       "2      MAAVVAATRWWQLLLVLSAAGMGASGAPQPPNILLLLMDDMGWGDL...   \n",
       "3      MFEARLVQGSILKKVLEALKDLINEACWDISSSGVNLQSMDSSHVS...   \n",
       "4      MLRGPGPGLLLLAVQCLGTAVPSTGASKSKRQAQQMVQPQSPVAVS...   \n",
       "...                                                  ...   \n",
       "73105  MHLPGCAPAMADGSFSLAGHLLRSPGGSTSRLHSIEAILGFTKDDG...   \n",
       "73106  MAAETQTLNFGPEWLRALSSGGSITSPPLSPALPKYKLADYRYGRE...   \n",
       "73107  MATGTGKHKLLSTGPTEPWSIREKLCLASSVMRSGDQNWVSVSRAI...   \n",
       "73108  MAMTLLEDWCRGMDVNSQRALLVWGIPVNCDEAEIEETLQAAMPQV...   \n",
       "73109  MKRRLDDQESPVYAAQQRRIPGSTEAFPHQHRVLAPAPPVYEAVSE...   \n",
       "\n",
       "                                     protein_sequences_2  class  \n",
       "0      MMDGPRSDVGRWGGNPLQPPTTPSPEPEPEPDGRSRRGGGRSFWAR...      1  \n",
       "1      MESGQPARRIAMAPLLEYERQLVLELLDTDGLVVCARGLGADRLLY...      1  \n",
       "2      MFWKFDLNTTSHVDKLLDKEHVTLQELMDEDDILQECKAQNQKLLD...      0  \n",
       "3      MALRVTRNSKINAENKAKINMAGAKRVPTAPAATSKPGLRPRTALG...      1  \n",
       "4      MLSFVDTRTLLLLAVTLCLATCQSLQEETVRKGPAGDRGPRGERGP...      1  \n",
       "...                                                  ...    ...  \n",
       "73105  MMEESGIETTPPGTPPPNPAGLAATAMSSTPVPLAATSSFSSPNVS...      0  \n",
       "73106  MGRRSTSSTKSGKFMNPTDQARKEARKRELKKNKKQRMMVRAAVLK...      1  \n",
       "73107  MFSLSSTVQPQVTVPLSHLINAFHTPKNTSVSLSGVSVSQNQHRDV...      0  \n",
       "73108  MNILPKKSWHVRNKDNVARVRRDEAQAREEEKERERRVLLAQQEAR...      1  \n",
       "73109  MASSVGNVADSTEPTKRMLSFQGLAELAHREYQAGDFEAAERHCMQ...      1  \n",
       "\n",
       "[73110 rows x 3 columns]"
      ]
     },
     "execution_count": 8,
     "metadata": {},
     "output_type": "execute_result"
    }
   ],
   "source": [
    "df"
   ]
  },
  {
   "cell_type": "code",
   "execution_count": 9,
   "id": "7f2c3be5",
   "metadata": {},
   "outputs": [],
   "source": [
    "def aa_composition(sequence):\n",
    "    amino_acids = 'ACDEFGHIKLMNPQRSTVWY'\n",
    "    composition = {aa: sequence.count(aa) for aa in amino_acids}\n",
    "    return list(composition.values())\n",
    "\n",
    "df['features_1'] = df['protein_sequences_1'].apply(aa_composition)\n",
    "df['features_2'] = df['protein_sequences_2'].apply(aa_composition)"
   ]
  },
  {
   "cell_type": "code",
   "execution_count": 10,
   "id": "a2b74e5a",
   "metadata": {},
   "outputs": [],
   "source": [
    "X1 = np.stack(df['features_1'].values)\n",
    "X2 = np.stack(df['features_2'].values)"
   ]
  },
  {
   "cell_type": "code",
   "execution_count": 11,
   "id": "a2102027",
   "metadata": {},
   "outputs": [
    {
     "data": {
      "text/plain": [
       "array([[ 14,   5,   4, ...,  18,   1,   9],\n",
       "       [251,  14, 177, ..., 108,  40,  40],\n",
       "       [ 46,   8,  24, ...,  23,  15,  16],\n",
       "       ...,\n",
       "       [ 96,  14,  80, ...,  87,  12,  15],\n",
       "       [ 32,   3,  14, ...,  24,   9,   6],\n",
       "       [ 82,  14,  61, ...,  81,  11,  44]])"
      ]
     },
     "execution_count": 11,
     "metadata": {},
     "output_type": "execute_result"
    }
   ],
   "source": [
    "X1"
   ]
  },
  {
   "cell_type": "code",
   "execution_count": 12,
   "id": "3bbacea5",
   "metadata": {},
   "outputs": [],
   "source": [
    "X = np.concatenate((X1, X2), axis=1)\n",
    "y = df['class'].values"
   ]
  },
  {
   "cell_type": "code",
   "execution_count": 13,
   "id": "be44ba9e",
   "metadata": {},
   "outputs": [],
   "source": [
    "X_train, X_test, y_train, y_test = train_test_split(X, y, test_size=0.4, random_state=42)"
   ]
  },
  {
   "cell_type": "code",
   "execution_count": 14,
   "id": "22c15be9",
   "metadata": {},
   "outputs": [
    {
     "data": {
      "text/html": [
       "<style>#sk-container-id-1 {color: black;background-color: white;}#sk-container-id-1 pre{padding: 0;}#sk-container-id-1 div.sk-toggleable {background-color: white;}#sk-container-id-1 label.sk-toggleable__label {cursor: pointer;display: block;width: 100%;margin-bottom: 0;padding: 0.3em;box-sizing: border-box;text-align: center;}#sk-container-id-1 label.sk-toggleable__label-arrow:before {content: \"▸\";float: left;margin-right: 0.25em;color: #696969;}#sk-container-id-1 label.sk-toggleable__label-arrow:hover:before {color: black;}#sk-container-id-1 div.sk-estimator:hover label.sk-toggleable__label-arrow:before {color: black;}#sk-container-id-1 div.sk-toggleable__content {max-height: 0;max-width: 0;overflow: hidden;text-align: left;background-color: #f0f8ff;}#sk-container-id-1 div.sk-toggleable__content pre {margin: 0.2em;color: black;border-radius: 0.25em;background-color: #f0f8ff;}#sk-container-id-1 input.sk-toggleable__control:checked~div.sk-toggleable__content {max-height: 200px;max-width: 100%;overflow: auto;}#sk-container-id-1 input.sk-toggleable__control:checked~label.sk-toggleable__label-arrow:before {content: \"▾\";}#sk-container-id-1 div.sk-estimator input.sk-toggleable__control:checked~label.sk-toggleable__label {background-color: #d4ebff;}#sk-container-id-1 div.sk-label input.sk-toggleable__control:checked~label.sk-toggleable__label {background-color: #d4ebff;}#sk-container-id-1 input.sk-hidden--visually {border: 0;clip: rect(1px 1px 1px 1px);clip: rect(1px, 1px, 1px, 1px);height: 1px;margin: -1px;overflow: hidden;padding: 0;position: absolute;width: 1px;}#sk-container-id-1 div.sk-estimator {font-family: monospace;background-color: #f0f8ff;border: 1px dotted black;border-radius: 0.25em;box-sizing: border-box;margin-bottom: 0.5em;}#sk-container-id-1 div.sk-estimator:hover {background-color: #d4ebff;}#sk-container-id-1 div.sk-parallel-item::after {content: \"\";width: 100%;border-bottom: 1px solid gray;flex-grow: 1;}#sk-container-id-1 div.sk-label:hover label.sk-toggleable__label {background-color: #d4ebff;}#sk-container-id-1 div.sk-serial::before {content: \"\";position: absolute;border-left: 1px solid gray;box-sizing: border-box;top: 0;bottom: 0;left: 50%;z-index: 0;}#sk-container-id-1 div.sk-serial {display: flex;flex-direction: column;align-items: center;background-color: white;padding-right: 0.2em;padding-left: 0.2em;position: relative;}#sk-container-id-1 div.sk-item {position: relative;z-index: 1;}#sk-container-id-1 div.sk-parallel {display: flex;align-items: stretch;justify-content: center;background-color: white;position: relative;}#sk-container-id-1 div.sk-item::before, #sk-container-id-1 div.sk-parallel-item::before {content: \"\";position: absolute;border-left: 1px solid gray;box-sizing: border-box;top: 0;bottom: 0;left: 50%;z-index: -1;}#sk-container-id-1 div.sk-parallel-item {display: flex;flex-direction: column;z-index: 1;position: relative;background-color: white;}#sk-container-id-1 div.sk-parallel-item:first-child::after {align-self: flex-end;width: 50%;}#sk-container-id-1 div.sk-parallel-item:last-child::after {align-self: flex-start;width: 50%;}#sk-container-id-1 div.sk-parallel-item:only-child::after {width: 0;}#sk-container-id-1 div.sk-dashed-wrapped {border: 1px dashed gray;margin: 0 0.4em 0.5em 0.4em;box-sizing: border-box;padding-bottom: 0.4em;background-color: white;}#sk-container-id-1 div.sk-label label {font-family: monospace;font-weight: bold;display: inline-block;line-height: 1.2em;}#sk-container-id-1 div.sk-label-container {text-align: center;}#sk-container-id-1 div.sk-container {/* jupyter's `normalize.less` sets `[hidden] { display: none; }` but bootstrap.min.css set `[hidden] { display: none !important; }` so we also need the `!important` here to be able to override the default hidden behavior on the sphinx rendered scikit-learn.org. See: https://github.com/scikit-learn/scikit-learn/issues/21755 */display: inline-block !important;position: relative;}#sk-container-id-1 div.sk-text-repr-fallback {display: none;}</style><div id=\"sk-container-id-1\" class=\"sk-top-container\"><div class=\"sk-text-repr-fallback\"><pre>XGBClassifier(base_score=None, booster=None, callbacks=None,\n",
       "              colsample_bylevel=None, colsample_bynode=None,\n",
       "              colsample_bytree=None, device=None, early_stopping_rounds=None,\n",
       "              enable_categorical=False, eval_metric=None, feature_types=None,\n",
       "              gamma=None, grow_policy=None, importance_type=None,\n",
       "              interaction_constraints=None, learning_rate=None, max_bin=None,\n",
       "              max_cat_threshold=None, max_cat_to_onehot=None,\n",
       "              max_delta_step=None, max_depth=None, max_leaves=None,\n",
       "              min_child_weight=None, missing=nan, monotone_constraints=None,\n",
       "              multi_strategy=None, n_estimators=500, n_jobs=None,\n",
       "              num_parallel_tree=None, random_state=42, ...)</pre><b>In a Jupyter environment, please rerun this cell to show the HTML representation or trust the notebook. <br />On GitHub, the HTML representation is unable to render, please try loading this page with nbviewer.org.</b></div><div class=\"sk-container\" hidden><div class=\"sk-item\"><div class=\"sk-estimator sk-toggleable\"><input class=\"sk-toggleable__control sk-hidden--visually\" id=\"sk-estimator-id-1\" type=\"checkbox\" checked><label for=\"sk-estimator-id-1\" class=\"sk-toggleable__label sk-toggleable__label-arrow\">XGBClassifier</label><div class=\"sk-toggleable__content\"><pre>XGBClassifier(base_score=None, booster=None, callbacks=None,\n",
       "              colsample_bylevel=None, colsample_bynode=None,\n",
       "              colsample_bytree=None, device=None, early_stopping_rounds=None,\n",
       "              enable_categorical=False, eval_metric=None, feature_types=None,\n",
       "              gamma=None, grow_policy=None, importance_type=None,\n",
       "              interaction_constraints=None, learning_rate=None, max_bin=None,\n",
       "              max_cat_threshold=None, max_cat_to_onehot=None,\n",
       "              max_delta_step=None, max_depth=None, max_leaves=None,\n",
       "              min_child_weight=None, missing=nan, monotone_constraints=None,\n",
       "              multi_strategy=None, n_estimators=500, n_jobs=None,\n",
       "              num_parallel_tree=None, random_state=42, ...)</pre></div></div></div></div></div>"
      ],
      "text/plain": [
       "XGBClassifier(base_score=None, booster=None, callbacks=None,\n",
       "              colsample_bylevel=None, colsample_bynode=None,\n",
       "              colsample_bytree=None, device=None, early_stopping_rounds=None,\n",
       "              enable_categorical=False, eval_metric=None, feature_types=None,\n",
       "              gamma=None, grow_policy=None, importance_type=None,\n",
       "              interaction_constraints=None, learning_rate=None, max_bin=None,\n",
       "              max_cat_threshold=None, max_cat_to_onehot=None,\n",
       "              max_delta_step=None, max_depth=None, max_leaves=None,\n",
       "              min_child_weight=None, missing=nan, monotone_constraints=None,\n",
       "              multi_strategy=None, n_estimators=500, n_jobs=None,\n",
       "              num_parallel_tree=None, random_state=42, ...)"
      ]
     },
     "execution_count": 14,
     "metadata": {},
     "output_type": "execute_result"
    }
   ],
   "source": [
    "model = XGBClassifier(n_estimators=500, random_state=42)\n",
    "model.fit(X_train, y_train)"
   ]
  },
  {
   "cell_type": "code",
   "execution_count": 15,
   "id": "84238816",
   "metadata": {},
   "outputs": [
    {
     "name": "stdout",
     "output_type": "stream",
     "text": [
      "Accuracy: 0.9833812064013131\n"
     ]
    }
   ],
   "source": [
    "y_pred = model.predict(X_test)\n",
    "\n",
    "accuracy = accuracy_score(y_test, y_pred)\n",
    "print(f'Accuracy: {accuracy}')"
   ]
  },
  {
   "cell_type": "code",
   "execution_count": 16,
   "id": "0939aad5",
   "metadata": {},
   "outputs": [],
   "source": [
    "cm = confusion_matrix(y_test, y_pred)"
   ]
  },
  {
   "cell_type": "code",
   "execution_count": 17,
   "id": "7b974593",
   "metadata": {},
   "outputs": [
    {
     "data": {
      "image/png": "[encoded data removed]",
      "text/plain": [
       "<Figure size 576x432 with 2 Axes>"
      ]
     },
     "metadata": {
      "needs_background": "light"
     },
     "output_type": "display_data"
    }
   ],
   "source": [
    "plt.figure(figsize=(8, 6))\n",
    "sns.heatmap(cm, annot=True, fmt='d', cmap='Blues', xticklabels=model.classes_, yticklabels=model.classes_)\n",
    "plt.xlabel('Predicted')\n",
    "plt.ylabel('Actual')\n",
    "plt.title('Confusion Matrix')\n",
    "plt.show()"
   ]
  },
  {
   "cell_type": "code",
   "execution_count": null,
   "id": "c02e5ac8",
   "metadata": {},
   "outputs": [],
   "source": []
  }
 ],
 "metadata": {
  "kernelspec": {
   "display_name": "Python 3 (ipykernel)",
   "language": "python",
   "name": "python3"
  },
  "language_info": {
   "codemirror_mode": {
    "name": "ipython",
    "version": 3
   },
   "file_extension": ".py",
   "mimetype": "text/x-python",
   "name": "python",
   "nbconvert_exporter": "python",
   "pygments_lexer": "ipython3",
   "version": "3.10.5"
  }
 },
 "nbformat": 4,
 "nbformat_minor": 5
}
